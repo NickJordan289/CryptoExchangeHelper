{
  "nbformat": 4,
  "nbformat_minor": 0,
  "metadata": {
    "colab": {
      "name": "Trading API",
      "provenance": [],
      "collapsed_sections": [],
      "include_colab_link": true
    },
    "kernelspec": {
      "name": "python3",
      "display_name": "Python 3"
    }
  },
  "cells": [
    {
      "cell_type": "markdown",
      "metadata": {
        "id": "view-in-github",
        "colab_type": "text"
      },
      "source": [
        "<a href=\"https://colab.research.google.com/github/NickJordan289/CryptoExchangeHelper/blob/master/Trading_API.ipynb\" target=\"_parent\"><img src=\"https://colab.research.google.com/assets/colab-badge.svg\" alt=\"Open In Colab\"/></a>"
      ]
    },
    {
      "cell_type": "code",
      "metadata": {
        "id": "s06zLWlLlYWX",
        "colab_type": "code",
        "outputId": "fdf3b64f-dd1d-442a-c7d0-5446bb264769",
        "colab": {
          "base_uri": "https://localhost:8080/",
          "height": 54
        }
      },
      "source": [
        "!pip install python-dotenv"
      ],
      "execution_count": 1,
      "outputs": [
        {
          "output_type": "stream",
          "text": [
            "Requirement already satisfied: python-dotenv in /usr/local/lib/python3.6/dist-packages (0.10.3)\n"
          ],
          "name": "stdout"
        }
      ]
    },
    {
      "cell_type": "code",
      "metadata": {
        "id": "IBH6vTsBjeuZ",
        "colab_type": "code",
        "colab": {}
      },
      "source": [
        "import os\n",
        "import requests\n",
        "from pprint import pprint\n",
        "from dotenv import load_dotenv, find_dotenv"
      ],
      "execution_count": 0,
      "outputs": []
    },
    {
      "cell_type": "code",
      "metadata": {
        "id": "nGMFsnUvKbNg",
        "colab_type": "code",
        "colab": {
          "base_uri": "https://localhost:8080/",
          "height": 71
        },
        "outputId": "dc6f6c45-b6df-4f99-9539-c29d100235bc"
      },
      "source": [
        "#@title Setup { run: \"auto\", vertical-output: true }\n",
        "\n",
        "print(find_dotenv())\n",
        "load_dotenv(find_dotenv(), verbose=True)\n",
        "\n",
        "token = os.getenv(\"TOKEN\")\n",
        "head = {\n",
        "    'Authorization': f'Token token=\"{token}\"'\n",
        "}\n",
        "investment = 400 #@param {type:\"number\"}\n",
        "base_currency = 'AUD' #@param {type:\"string\"}"
      ],
      "execution_count": 3,
      "outputs": [
        {
          "output_type": "stream",
          "text": [
            "/content/.env\n",
            "_g_ibjyKJ-d4mcJuWjNq4l9VQQ22iYOOxI1YtABLRf0\n"
          ],
          "name": "stdout"
        }
      ]
    },
    {
      "cell_type": "code",
      "metadata": {
        "id": "24qTLhwB1YaW",
        "colab_type": "code",
        "colab": {}
      },
      "source": [
        "# GET\n",
        "orders_url = 'https://api.exchange.coinjar.com/orders'\n",
        "\n",
        "req = requests.get(orders_url, headers=head)\n",
        "orders = req.json()\n",
        "#pprint(orders)"
      ],
      "execution_count": 0,
      "outputs": []
    },
    {
      "cell_type": "code",
      "metadata": {
        "id": "o8lyh_TfLYxB",
        "colab_type": "code",
        "colab": {
          "base_uri": "https://localhost:8080/",
          "height": 34
        },
        "outputId": "26a9c4ed-50e7-41cb-d36c-949ce93d7d3b"
      },
      "source": [
        "# GET\n",
        "def getLastPrice(id):\n",
        "  ticker_url = f'https://api.exchange.coinjar.com/products/{id}{base_currency}/ticker'\n",
        "\n",
        "  req = requests.get(ticker_url, headers=head)\n",
        "  ticker = req.json()\n",
        "  return float(ticker['last'])\n",
        "\n",
        "last = getLastPrice('XRP')\n",
        "print(f'{id} Last Price : {last}')"
      ],
      "execution_count": 5,
      "outputs": [
        {
          "output_type": "stream",
          "text": [
            "<built-in function id> Last Price : 0.3565\n"
          ],
          "name": "stdout"
        }
      ]
    },
    {
      "cell_type": "code",
      "metadata": {
        "id": "Y6spRfJFVKOv",
        "colab_type": "code",
        "colab": {}
      },
      "source": [
        "#Solves for xrp exchange price using known variables\n",
        "from sympy.solvers import solve\n",
        "from sympy import Symbol\n",
        "x = Symbol('x')\n",
        "def solve_xrp(bank,investment,xrp, profit=0):\n",
        "  return solve((x*xrp)+bank-(investment*(1+profit)))[0]"
      ],
      "execution_count": 0,
      "outputs": []
    },
    {
      "cell_type": "code",
      "metadata": {
        "id": "eev64Fu6JBFQ",
        "colab_type": "code",
        "colab": {
          "base_uri": "https://localhost:8080/",
          "height": 224
        },
        "outputId": "1d8e194b-6e40-4b02-e342-01e8d2e6a27d"
      },
      "source": [
        "#@title Calculate Profit { run: \"auto\", vertical-output: true }\n",
        "accounts_url = 'https://api.exchange.coinjar.com/accounts'\n",
        "\n",
        "req = requests.get(accounts_url, headers=head)\n",
        "balances = req.json()\n",
        "#pprint(balances)\n",
        "\n",
        "print(f\"{'-'*10} Accounts {'-'*10}\")\n",
        "bals = {}\n",
        "for bal in balances:\n",
        "  if(float(bal['settled_balance']) > 0):\n",
        "    if(bal['asset_code'] == base_currency):\n",
        "      bank = float(bal['settled_balance'])\n",
        "    else:\n",
        "      bals[bal['asset_code']] = float(bal['settled_balance'])\n",
        "    print(f\"{bal['asset_code']} : {bal['settled_balance']}\")\n",
        "print()\n",
        "\n",
        "prices = {}\n",
        "evaluation = bank\n",
        "for i,k in enumerate(bals):\n",
        "  price = getLastPrice(id=k)\n",
        "  prices[k] = price\n",
        "  evaluation = evaluation + (bals[k]*price)\n",
        "\n",
        "print(f\"{'-'*5} Account Evaluation {'-'*5}\")\n",
        "print(f'Evaluation : ${evaluation} {base_currency}')\n",
        "print(f'Profit if sold at current price : ${round(evaluation-investment,2)} {base_currency}')\n",
        "print()\n",
        "\n",
        "print(f\"{'-'*2} Calculated Recommendations {'-'*2}\")\n",
        "min_val = solve_xrp(xrp=bals['XRP'], bank=bank, investment=investment)\n",
        "print(f'min to break even {round(min_val,4)}')\n",
        "desired_profit_percent = 5 #@param {type:\"number\"}\n",
        "desired_profit_decimal = desired_profit_percent/100.0\n",
        "profitable = solve_xrp(xrp=bals['XRP'], bank=bank, investment=investment, profit=desired_profit_decimal)\n",
        "print(f\"profiting at {desired_profit_percent}% : {round(profitable,4)} : +${round(profitable*bals['XRP']+bank,2)-investment} {base_currency}\")"
      ],
      "execution_count": 7,
      "outputs": [
        {
          "output_type": "stream",
          "text": [
            "---------- Accounts ----------\n",
            "AUD : 35.36\n",
            "XRP : 1000.000000\n",
            "\n",
            "----- Account Evaluation -----\n",
            "Evaluation : $391.86 AUD\n",
            "Profit if sold at current price : $-8.14 AUD\n",
            "\n",
            "-- Calculated Recommendations --\n",
            "min to break even 0.3646\n",
            "profiting at 5% : 0.3846 : +$20.0 AUD\n"
          ],
          "name": "stdout"
        }
      ]
    },
    {
      "cell_type": "code",
      "metadata": {
        "id": "5XZE0iHcI8ED",
        "colab_type": "code",
        "colab": {
          "base_uri": "https://localhost:8080/",
          "height": 51
        },
        "outputId": "af7f3fff-6dc3-4dd8-8703-d45824c914de"
      },
      "source": [
        "total = 0\n",
        "for order in orders:\n",
        "  total = total + (float(order['size']) * float((order['price'])))\n",
        "evaluation =  round(total+bank, 2)\n",
        "profit = round(evaluation-investment, 2)\n",
        "print(f'Total assuming orders are filled ${evaluation} {base_currency}')\n",
        "print(f'Profit assuming orders are filled ${profit} {base_currency}')"
      ],
      "execution_count": 8,
      "outputs": [
        {
          "output_type": "stream",
          "text": [
            "Total assuming orders are filled $421.2 AUD\n",
            "Profit assuming orders are filled $21.2 AUD\n"
          ],
          "name": "stdout"
        }
      ]
    },
    {
      "cell_type": "code",
      "metadata": {
        "id": "FG6yciUQjo2p",
        "colab_type": "code",
        "colab": {}
      },
      "source": [
        "## POST\n",
        "#create_url = 'https://api.exchange.coinjar.com/orders'\n",
        "#\n",
        "#data = {\n",
        "#    'product_id' : 'BTCAUD',\n",
        "#    'type' : 'LMT',\n",
        "#    'side' : 'buy',\n",
        "#    'price' : '12000.00',\n",
        "#    'size' : '0.008',\n",
        "#    'time_in_force' : 'GTC'\n",
        "#}\n",
        "#\n",
        "#req = requests.post(create_url, headers=head, json=data)\n",
        "#print(req.json())"
      ],
      "execution_count": 0,
      "outputs": []
    }
  ]
}