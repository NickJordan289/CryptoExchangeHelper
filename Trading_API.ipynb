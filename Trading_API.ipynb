{
  "nbformat": 4,
  "nbformat_minor": 0,
  "metadata": {
    "colab": {
      "name": "Trading API",
      "provenance": [],
      "collapsed_sections": [],
      "include_colab_link": true
    },
    "kernelspec": {
      "name": "python3",
      "display_name": "Python 3"
    }
  },
  "cells": [
    {
      "cell_type": "markdown",
      "metadata": {
        "id": "view-in-github",
        "colab_type": "text"
      },
      "source": [
        "<a href=\"https://colab.research.google.com/github/NickJordan289/CryptoExchangeHelper/blob/master/Trading_API.ipynb\" target=\"_parent\"><img src=\"https://colab.research.google.com/assets/colab-badge.svg\" alt=\"Open In Colab\"/></a>"
      ]
    },
    {
      "cell_type": "code",
      "metadata": {
        "id": "s06zLWlLlYWX",
        "colab_type": "code",
        "outputId": "9555d288-6d25-40e5-aa88-757d7298fafa",
        "colab": {
          "base_uri": "https://localhost:8080/",
          "height": 34
        }
      },
      "source": [
        "!pip install python-dotenv"
      ],
      "execution_count": 18,
      "outputs": [
        {
          "output_type": "stream",
          "text": [
            "Requirement already satisfied: python-dotenv in /usr/local/lib/python3.6/dist-packages (0.10.3)\n"
          ],
          "name": "stdout"
        }
      ]
    },
    {
      "cell_type": "code",
      "metadata": {
        "id": "IBH6vTsBjeuZ",
        "colab_type": "code",
        "colab": {}
      },
      "source": [
        "import os\n",
        "import requests\n",
        "from pprint import pprint\n",
        "from dotenv import load_dotenv, find_dotenv"
      ],
      "execution_count": 0,
      "outputs": []
    },
    {
      "cell_type": "code",
      "metadata": {
        "id": "nGMFsnUvKbNg",
        "colab_type": "code",
        "outputId": "18cd2e3f-8858-4c77-cd20-279d0decf87c",
        "colab": {
          "base_uri": "https://localhost:8080/",
          "height": 34
        }
      },
      "source": [
        "#@title Setup { run: \"auto\", vertical-output: true }\n",
        "\n",
        "print(find_dotenv())\n",
        "load_dotenv(find_dotenv(), verbose=True)\n",
        "\n",
        "token = os.getenv(\"TOKEN\")\n",
        "head = {\n",
        "    'Authorization': f'Token token=\"{token}\"'\n",
        "}\n",
        "cid = 'XRP' # main currency\n",
        "investment = 500 #@param {type:\"number\"}\n",
        "base_currency = 'AUD' #@param {type:\"string\"}"
      ],
      "execution_count": 20,
      "outputs": [
        {
          "output_type": "stream",
          "text": [
            "/content/.env\n"
          ],
          "name": "stdout"
        }
      ]
    },
    {
      "cell_type": "code",
      "metadata": {
        "id": "24qTLhwB1YaW",
        "colab_type": "code",
        "outputId": "bd4fc1fa-3cb3-47bb-e6d6-605588cb3f51",
        "colab": {
          "base_uri": "https://localhost:8080/",
          "height": 391
        }
      },
      "source": [
        "# GET\n",
        "orders_url = 'https://api.exchange.coinjar.com/orders'\n",
        "def get_orders(verbose=False):\n",
        "  req = requests.get(orders_url, headers=head)\n",
        "  orders = req.json()\n",
        "  if verbose: pprint(orders)\n",
        "get_orders(True)"
      ],
      "execution_count": 21,
      "outputs": [
        {
          "output_type": "stream",
          "text": [
            "[{'filled': '0.000000',\n",
            "  'oid': 419905508,\n",
            "  'price': '0.38980000',\n",
            "  'product_id': 'XRPAUD',\n",
            "  'ref': '',\n",
            "  'side': 'sell',\n",
            "  'size': '800.000000',\n",
            "  'status': 'booked',\n",
            "  'time_in_force': 'GTC',\n",
            "  'timestamp': '2019-11-20T04:10:53.776+00:00',\n",
            "  'type': 'LMT'},\n",
            " {'filled': '0.000000',\n",
            "  'oid': 422472901,\n",
            "  'price': '0.37000000',\n",
            "  'product_id': 'XRPAUD',\n",
            "  'ref': '',\n",
            "  'side': 'sell',\n",
            "  'size': '200.000000',\n",
            "  'status': 'booked',\n",
            "  'time_in_force': 'MOC',\n",
            "  'timestamp': '2019-11-21T11:30:39.435+00:00',\n",
            "  'type': 'LMT'}]\n"
          ],
          "name": "stdout"
        }
      ]
    },
    {
      "cell_type": "code",
      "metadata": {
        "id": "o8lyh_TfLYxB",
        "colab_type": "code",
        "outputId": "7c2b1e62-e4d2-4bd0-f1d7-c90021a83db6",
        "colab": {
          "base_uri": "https://localhost:8080/",
          "height": 34
        }
      },
      "source": [
        "# GET\n",
        "def getLastPrice(cid):\n",
        "  ticker_url = f'https://api.exchange.coinjar.com/products/{cid}{base_currency}/ticker'\n",
        "\n",
        "  req = requests.get(ticker_url, headers=head)\n",
        "  ticker = req.json()\n",
        "  return float(ticker['last'])\n",
        "\n",
        "last = getLastPrice('XRP')\n",
        "print(f'{cid} Last Price : {last}')"
      ],
      "execution_count": 22,
      "outputs": [
        {
          "output_type": "stream",
          "text": [
            "XRP Last Price : 0.3428\n"
          ],
          "name": "stdout"
        }
      ]
    },
    {
      "cell_type": "code",
      "metadata": {
        "id": "Y6spRfJFVKOv",
        "colab_type": "code",
        "colab": {}
      },
      "source": [
        "#Solves for xrp exchange price using known variables\n",
        "from sympy.solvers import solve\n",
        "from sympy import Symbol\n",
        "x = Symbol('x')\n",
        "def solve_xrp(bank,investment,xrp, profit=0):\n",
        "  return solve((x*xrp)+bank-(investment*(1+profit)))[0]"
      ],
      "execution_count": 0,
      "outputs": []
    },
    {
      "cell_type": "code",
      "metadata": {
        "id": "eev64Fu6JBFQ",
        "colab_type": "code",
        "outputId": "2f202c7a-ec35-41eb-d542-21fead4d8d1a",
        "colab": {
          "base_uri": "https://localhost:8080/",
          "height": 221
        }
      },
      "source": [
        "#@title Calculate Profit { run: \"auto\", vertical-output: true }\n",
        "accounts_url = 'https://api.exchange.coinjar.com/accounts'\n",
        "\n",
        "req = requests.get(accounts_url, headers=head)\n",
        "balances = req.json()\n",
        "#pprint(balances)\n",
        "\n",
        "print(f\"{'-'*10} Accounts {'-'*10}\")\n",
        "bals = {}\n",
        "for bal in balances:\n",
        "  if(float(bal['settled_balance']) > 0):\n",
        "    if(bal['asset_code'] == base_currency):\n",
        "      bank = float(bal['settled_balance'])\n",
        "    else:\n",
        "      bals[bal['asset_code']] = float(bal['settled_balance'])\n",
        "    print(f\"{bal['asset_code']} : {bal['settled_balance']}\")\n",
        "print()\n",
        "\n",
        "prices = {}\n",
        "evaluation = bank\n",
        "for i,k in enumerate(bals):\n",
        "  price = getLastPrice(cid=k)\n",
        "  prices[k] = price\n",
        "  evaluation = evaluation + (bals[k]*price)\n",
        "\n",
        "print(f\"{'-'*5} Account Evaluation {'-'*5}\")\n",
        "print(f'Evaluation : ${evaluation} {base_currency}')\n",
        "print(f'Profit if sold at current price : ${round(evaluation-investment,2)} {base_currency}')\n",
        "print()\n",
        "\n",
        "print(f\"{'-'*2} Calculated Recommendations {'-'*2}\")\n",
        "min_val = solve_xrp(xrp=bals['XRP'], bank=bank, investment=investment)\n",
        "print(f'min to break even {round(min_val,4)}')\n",
        "desired_profit_percent = 5 #@param {type:\"number\"}\n",
        "desired_profit_decimal = desired_profit_percent/100.0\n",
        "profitable = solve_xrp(xrp=bals['XRP'], bank=bank, investment=investment, profit=desired_profit_decimal)\n",
        "print(f\"profiting at {desired_profit_percent}% : {round(profitable,4)} : +${round(profitable*bals['XRP']+bank,2)-investment} {base_currency}\")\n",
        "\n",
        "profitable_exact = solve_xrp(xrp=bals['XRP'], bank=bank, investment=investment, profit=desired_profit_decimal)\n",
        "desired_profit_exact = 10 #@param {type:\"number\"}\n",
        "print(f\"profiting ${desired_profit_exact} AUD : {round(profitable_exact,4)}\")"
      ],
      "execution_count": 27,
      "outputs": [
        {
          "output_type": "stream",
          "text": [
            "---------- Accounts ----------\n",
            "AUD : 0.31\n",
            "XRP : 1400.000000\n",
            "\n",
            "----- Account Evaluation -----\n",
            "Evaluation : $480.23 AUD\n",
            "Profit if sold at current price : $-19.77 AUD\n",
            "\n",
            "-- Calculated Recommendations --\n",
            "min to break even 0.3569\n",
            "profiting at 5% : 0.3748 : +$25.0 AUD\n",
            "profiting $10 AUD : 0.3748\n"
          ],
          "name": "stdout"
        }
      ]
    },
    {
      "cell_type": "code",
      "metadata": {
        "id": "5XZE0iHcI8ED",
        "colab_type": "code",
        "colab": {}
      },
      "source": [
        "get_orders()\n",
        "\n",
        "# includes evaluation of pending buy orders (profit assumes you cancel the order and keep in AUD)\n",
        "total = 0\n",
        "for order in orders:\n",
        "  total = total + (float(order['size']) * float((order['price'])))\n",
        "\n",
        "evaluation = round(total+bank, 2)\n",
        "profit = round(evaluation-investment, 2)\n",
        "print(f'Total assuming orders are filled ${evaluation} {base_currency}')\n",
        "print(f'Profit assuming orders are filled ${profit} {base_currency}')"
      ],
      "execution_count": 0,
      "outputs": []
    },
    {
      "cell_type": "code",
      "metadata": {
        "id": "FG6yciUQjo2p",
        "colab_type": "code",
        "colab": {}
      },
      "source": [
        "## POST\n",
        "#create_url = 'https://api.exchange.coinjar.com/orders'\n",
        "#\n",
        "#data = {\n",
        "#    'product_id' : 'BTCAUD',\n",
        "#    'type' : 'LMT',\n",
        "#    'side' : 'buy',\n",
        "#    'price' : '12000.00',\n",
        "#    'size' : '0.008',\n",
        "#    'time_in_force' : 'GTC'\n",
        "#}\n",
        "#\n",
        "#req = requests.post(create_url, headers=head, json=data)\n",
        "#print(req.json())"
      ],
      "execution_count": 0,
      "outputs": []
    }
  ]
}