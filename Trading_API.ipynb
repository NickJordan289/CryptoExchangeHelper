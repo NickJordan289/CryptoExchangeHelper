{
  "nbformat": 4,
  "nbformat_minor": 0,
  "metadata": {
    "colab": {
      "name": "Trading API",
      "provenance": [],
      "collapsed_sections": [],
      "include_colab_link": true
    },
    "kernelspec": {
      "name": "python3",
      "display_name": "Python 3"
    }
  },
  "cells": [
    {
      "cell_type": "markdown",
      "metadata": {
        "id": "view-in-github",
        "colab_type": "text"
      },
      "source": [
        "<a href=\"https://colab.research.google.com/github/NickJordan289/CryptoExchangeHelper/blob/master/Trading_API.ipynb\" target=\"_parent\"><img src=\"https://colab.research.google.com/assets/colab-badge.svg\" alt=\"Open In Colab\"/></a>"
      ]
    },
    {
      "cell_type": "code",
      "metadata": {
        "id": "s06zLWlLlYWX",
        "colab_type": "code",
        "outputId": "02d33865-1e08-45b3-e5f0-931e04c1dc2c",
        "colab": {
          "base_uri": "https://localhost:8080/",
          "height": 34
        }
      },
      "source": [
        "!pip install python-dotenv"
      ],
      "execution_count": 88,
      "outputs": [
        {
          "output_type": "stream",
          "text": [
            "Requirement already satisfied: python-dotenv in /usr/local/lib/python3.6/dist-packages (0.10.3)\n"
          ],
          "name": "stdout"
        }
      ]
    },
    {
      "cell_type": "code",
      "metadata": {
        "id": "IBH6vTsBjeuZ",
        "colab_type": "code",
        "colab": {}
      },
      "source": [
        "import os\n",
        "import requests\n",
        "from pprint import pprint\n",
        "from dotenv import load_dotenv, find_dotenv"
      ],
      "execution_count": 0,
      "outputs": []
    },
    {
      "cell_type": "code",
      "metadata": {
        "id": "nGMFsnUvKbNg",
        "colab_type": "code",
        "outputId": "c40da491-a0df-4faa-f057-0683367350cd",
        "colab": {
          "base_uri": "https://localhost:8080/",
          "height": 34
        }
      },
      "source": [
        "#@title Setup { run: \"auto\", vertical-output: true }\n",
        "\n",
        "print(find_dotenv())\n",
        "load_dotenv(find_dotenv(), verbose=True)\n",
        "\n",
        "token = os.getenv(\"TOKEN\")\n",
        "head = {\n",
        "    'Authorization': f'Token token=\"{token}\"'\n",
        "}\n",
        "investment = 500 #@param {type:\"number\"}\n",
        "base_currency = 'AUD' #@param {type:\"string\"}"
      ],
      "execution_count": 90,
      "outputs": [
        {
          "output_type": "stream",
          "text": [
            "/content/.env\n"
          ],
          "name": "stdout"
        }
      ]
    },
    {
      "cell_type": "code",
      "metadata": {
        "id": "24qTLhwB1YaW",
        "colab_type": "code",
        "colab": {
          "base_uri": "https://localhost:8080/",
          "height": 578
        },
        "outputId": "86ac46b0-eb4b-453f-8ad9-0a4affe0b7ca"
      },
      "source": [
        "# GET\n",
        "orders_url = 'https://api.exchange.coinjar.com/orders'\n",
        "def get_orders(verbose=False):\n",
        "  req = requests.get(orders_url, headers=head)\n",
        "  orders = req.json()\n",
        "  if verbose: pprint(orders)\n",
        "get_orders(True)"
      ],
      "execution_count": 91,
      "outputs": [
        {
          "output_type": "stream",
          "text": [
            "[{'filled': '0.000000',\n",
            "  'oid': 419905508,\n",
            "  'price': '0.38980000',\n",
            "  'product_id': 'XRPAUD',\n",
            "  'ref': '',\n",
            "  'side': 'sell',\n",
            "  'size': '800.000000',\n",
            "  'status': 'booked',\n",
            "  'time_in_force': 'GTC',\n",
            "  'timestamp': '2019-11-20T04:10:53.776+00:00',\n",
            "  'type': 'LMT'},\n",
            " {'filled': '0.000000',\n",
            "  'oid': 422472901,\n",
            "  'price': '0.37000000',\n",
            "  'product_id': 'XRPAUD',\n",
            "  'ref': '',\n",
            "  'side': 'sell',\n",
            "  'size': '200.000000',\n",
            "  'status': 'booked',\n",
            "  'time_in_force': 'MOC',\n",
            "  'timestamp': '2019-11-21T11:30:39.435+00:00',\n",
            "  'type': 'LMT'},\n",
            " {'filled': '0.000000',\n",
            "  'oid': 424984896,\n",
            "  'price': '0.34000000',\n",
            "  'product_id': 'XRPAUD',\n",
            "  'ref': '',\n",
            "  'side': 'buy',\n",
            "  'size': '400.000000',\n",
            "  'status': 'booked',\n",
            "  'time_in_force': 'MOC',\n",
            "  'timestamp': '2019-11-22T16:23:16.086+00:00',\n",
            "  'type': 'LMT'}]\n"
          ],
          "name": "stdout"
        }
      ]
    },
    {
      "cell_type": "code",
      "metadata": {
        "id": "o8lyh_TfLYxB",
        "colab_type": "code",
        "outputId": "9a607c1b-b8af-419b-9b32-205ad1652a51",
        "colab": {
          "base_uri": "https://localhost:8080/",
          "height": 34
        }
      },
      "source": [
        "# GET\n",
        "def getLastPrice(id):\n",
        "  ticker_url = f'https://api.exchange.coinjar.com/products/{id}{base_currency}/ticker'\n",
        "\n",
        "  req = requests.get(ticker_url, headers=head)\n",
        "  ticker = req.json()\n",
        "  return float(ticker['last'])\n",
        "\n",
        "last = getLastPrice('XRP')\n",
        "print(f'{id} Last Price : {last}')"
      ],
      "execution_count": 92,
      "outputs": [
        {
          "output_type": "stream",
          "text": [
            "<built-in function id> Last Price : 0.3476\n"
          ],
          "name": "stdout"
        }
      ]
    },
    {
      "cell_type": "code",
      "metadata": {
        "id": "Y6spRfJFVKOv",
        "colab_type": "code",
        "colab": {}
      },
      "source": [
        "#Solves for xrp exchange price using known variables\n",
        "from sympy.solvers import solve\n",
        "from sympy import Symbol\n",
        "x = Symbol('x')\n",
        "def solve_xrp(bank,investment,xrp, profit=0):\n",
        "  return solve((x*xrp)+bank-(investment*(1+profit)))[0]"
      ],
      "execution_count": 0,
      "outputs": []
    },
    {
      "cell_type": "code",
      "metadata": {
        "id": "eev64Fu6JBFQ",
        "colab_type": "code",
        "outputId": "4f2c1759-2fe8-405a-e128-24f6c7e6c2ca",
        "colab": {
          "base_uri": "https://localhost:8080/",
          "height": 221
        }
      },
      "source": [
        "#@title Calculate Profit { run: \"auto\", vertical-output: true }\n",
        "accounts_url = 'https://api.exchange.coinjar.com/accounts'\n",
        "\n",
        "req = requests.get(accounts_url, headers=head)\n",
        "balances = req.json()\n",
        "#pprint(balances)\n",
        "\n",
        "print(f\"{'-'*10} Accounts {'-'*10}\")\n",
        "bals = {}\n",
        "for bal in balances:\n",
        "  if(float(bal['settled_balance']) > 0):\n",
        "    if(bal['asset_code'] == base_currency):\n",
        "      bank = float(bal['settled_balance'])\n",
        "    else:\n",
        "      bals[bal['asset_code']] = float(bal['settled_balance'])\n",
        "    print(f\"{bal['asset_code']} : {bal['settled_balance']}\")\n",
        "print()\n",
        "\n",
        "prices = {}\n",
        "evaluation = bank\n",
        "for i,k in enumerate(bals):\n",
        "  price = getLastPrice(id=k)\n",
        "  prices[k] = price\n",
        "  evaluation = evaluation + (bals[k]*price)\n",
        "\n",
        "print(f\"{'-'*5} Account Evaluation {'-'*5}\")\n",
        "print(f'Evaluation : ${evaluation} {base_currency}')\n",
        "print(f'Profit if sold at current price : ${round(evaluation-investment,2)} {base_currency}')\n",
        "print()\n",
        "\n",
        "print(f\"{'-'*2} Calculated Recommendations {'-'*2}\")\n",
        "min_val = solve_xrp(xrp=bals['XRP'], bank=bank, investment=investment)\n",
        "print(f'min to break even {round(min_val,4)}')\n",
        "desired_profit_percent = 5 #@param {type:\"number\"}\n",
        "desired_profit_decimal = desired_profit_percent/100.0\n",
        "profitable = solve_xrp(xrp=bals['XRP'], bank=bank, investment=investment, profit=desired_profit_decimal)\n",
        "print(f\"profiting at {desired_profit_percent}% : {round(profitable,4)} : +${round(profitable*bals['XRP']+bank,2)-investment} {base_currency}\")\n",
        "\n",
        "profitable_exact = solve_xrp(xrp=bals['XRP'], bank=bank, investment=investment, profit=desired_profit_decimal)\n",
        "desired_profit_exact = 10 #@param {type:\"number\"}\n",
        "print(f\"profiting ${desired_profit_exact} AUD : {round(profitable_exact,4)}\")"
      ],
      "execution_count": 94,
      "outputs": [
        {
          "output_type": "stream",
          "text": [
            "---------- Accounts ----------\n",
            "AUD : 137.20\n",
            "XRP : 1000.000000\n",
            "\n",
            "----- Account Evaluation -----\n",
            "Evaluation : $484.8 AUD\n",
            "Profit if sold at current price : $-15.2 AUD\n",
            "\n",
            "-- Calculated Recommendations --\n",
            "min to break even 0.3628\n",
            "profiting at 5% : 0.3878 : +$25.0 AUD\n",
            "profiting $10 AUD : 0.3878\n"
          ],
          "name": "stdout"
        }
      ]
    },
    {
      "cell_type": "code",
      "metadata": {
        "id": "5XZE0iHcI8ED",
        "colab_type": "code",
        "outputId": "6c110ef7-cb81-4771-ae02-c5cd6526adf1",
        "colab": {
          "base_uri": "https://localhost:8080/",
          "height": 51
        }
      },
      "source": [
        "get_orders()\n",
        "\n",
        "# includes evaluation of pending buy orders (profit assumes you cancel the order and keep in AUD)\n",
        "total = 0\n",
        "for order in orders:\n",
        "  total = total + (float(order['size']) * float((order['price'])))\n",
        "\n",
        "evaluation = round(total+bank, 2)\n",
        "profit = round(evaluation-investment, 2)\n",
        "print(f'Total assuming orders are filled ${evaluation} {base_currency}')\n",
        "print(f'Profit assuming orders are filled ${profit} {base_currency}')"
      ],
      "execution_count": 106,
      "outputs": [
        {
          "output_type": "stream",
          "text": [
            "Total assuming orders are filled $659.04 AUD\n",
            "Profit assuming orders are filled $159.04 AUD\n"
          ],
          "name": "stdout"
        }
      ]
    },
    {
      "cell_type": "code",
      "metadata": {
        "id": "FG6yciUQjo2p",
        "colab_type": "code",
        "colab": {}
      },
      "source": [
        "## POST\n",
        "#create_url = 'https://api.exchange.coinjar.com/orders'\n",
        "#\n",
        "#data = {\n",
        "#    'product_id' : 'BTCAUD',\n",
        "#    'type' : 'LMT',\n",
        "#    'side' : 'buy',\n",
        "#    'price' : '12000.00',\n",
        "#    'size' : '0.008',\n",
        "#    'time_in_force' : 'GTC'\n",
        "#}\n",
        "#\n",
        "#req = requests.post(create_url, headers=head, json=data)\n",
        "#print(req.json())"
      ],
      "execution_count": 0,
      "outputs": []
    }
  ]
}